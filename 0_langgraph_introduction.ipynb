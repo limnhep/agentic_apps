{
 "cells": [
  {
   "cell_type": "markdown",
   "metadata": {},
   "source": [
    "## LangGraph Introduction\n",
    "\n",
    "### What is LangGraph?\n",
    "\n",
    "<small>LangGraph is a flexible framework for building generative AI applications, from chatbots to complex models, built on the LangChain library.</small>\n",
    "\n",
    "<small>Each node represents an entity or function connected by edges, organized in a directed acyclic graph (DAG) representing the application's workflow.</small>\n",
    "\n",
    "### Features:\n",
    "\n",
    "- <small>**Controllability**: Control generative models' behavior with tools for building, training, deploying, and monitoring models in production using LangGraph Studio.</small>\n",
    "- <small>**State Management**: Manage inputs and outputs of each node with state representation.</small>\n",
    "- <small>**Workflow Management**: Tools for building and operating generative models, and monitoring them in production using LangGraph Studio.</small>\n",
    "\n",
    "### LangGraph Studio\n",
    "\n",
    "<small>LangGraph Studio is a web interface for managing and monitoring generative models in production, designed to be flexible and extensible for various generative AI applications, built on the LangChain library.</small>"
   ]
  },
  {
   "cell_type": "markdown",
   "metadata": {},
   "source": [
    "#### Import Libraries"
   ]
  },
  {
   "cell_type": "code",
   "execution_count": 71,
   "metadata": {},
   "outputs": [],
   "source": [
    "import os\n",
    "from typing import TypedDict, List\n",
    "from langgraph.graph import StateGraph, END\n",
    "from langchain_openai import ChatOpenAI\n",
    "from langchain_core.prompts.prompt import PromptTemplate \n",
    "from langchain_core.messages.human import HumanMessage\n",
    "from IPython.display import Image, display\n",
    "\n",
    "from dotenv import load_dotenv"
   ]
  },
  {
   "cell_type": "markdown",
   "metadata": {},
   "source": [
    "#### Set Environment Variables"
   ]
  },
  {
   "cell_type": "code",
   "execution_count": 72,
   "metadata": {},
   "outputs": [],
   "source": [
    "# Load Environment Variables\n",
    "load_dotenv()\n",
    "\n",
    "# Set OpenAI API Key\n",
    "try:\n",
    "    os.environ[\"OPENAI_API_KEY\"] = os.getenv(\"OPENAI_API_KEY\")\n",
    "except KeyError:\n",
    "    raise ValueError(\"OPENAI_API_KEY not found in environment variables.\")"
   ]
  },
  {
   "cell_type": "markdown",
   "metadata": {},
   "source": [
    "#### Creating a Text Processing Pipeline\n",
    "\n",
    "<small> Define a graph state to store the input text and initialize the LMM to process the text.</small>\n"
   ]
  },
  {
   "cell_type": "code",
   "execution_count": 73,
   "metadata": {},
   "outputs": [],
   "source": [
    "class State(TypedDict):\n",
    "    text: str\n",
    "    classification: str\n",
    "    entities: List[str]\n",
    "    summary: str\n",
    "\n",
    "try:\n",
    "    llm = ChatOpenAI(model=\"gpt-4o-mini\", temperature=0)\n",
    "except Exception as e:\n",
    "    print(f\"An error occurred: {e}\")\n"
   ]
  },
  {
   "cell_type": "markdown",
   "metadata": {},
   "source": [
    "#### Define the Node functions"
   ]
  },
  {
   "cell_type": "code",
   "execution_count": 84,
   "metadata": {},
   "outputs": [],
   "source": [
    "def classification_node(state: State):\n",
    "  '''Classify the input text into a category: News, Blogs, Research, or Others'''\n",
    "  prompt = PromptTemplate(\n",
    "    input_variables=[\"text\"],\n",
    "    template=\"Classify the following text into a category: News, Blogs, Research, or Others. \\n\\nText: {text} \\n\\nCategory:\"\n",
    "  )\n",
    "  message=HumanMessage(content=prompt.format(text=state[\"text\"]))\n",
    "  classification=llm.invoke([message]).content.strip()\n",
    "  return {\"classification\": classification}\n",
    "\n",
    "def entity_extraction_node(state: State):\n",
    "  '''Extract entities(Person, Organization, Location) from the input text'''\n",
    "  prompt = PromptTemplate(\n",
    "    input_variables=[\"text\"],\n",
    "    template=\"Extract entities(Person, Organization, Location)from the following text. Leave it blank if there is no entity. \\n\\nText: {text} \\n\\nEntities:\"\n",
    "  )\n",
    "  message=HumanMessage(content=prompt.format(text=state[\"text\"]))\n",
    "  extraction_entities=llm.invoke([message]).content.strip().split(\", \")\n",
    "  return {\"entities\": extraction_entities}\n",
    "  \n",
    "def summarization_node(state: State):\n",
    "  '''Summarize the input text in one short sentence'''\n",
    "  prompt=PromptTemplate(\n",
    "    input_variables=[\"text\"],\n",
    "    template=\"Summarize the following text in one short sentence. \\n\\nText: {text} \\n\\nSummary:\"\n",
    "  )\n",
    "  message=HumanMessage(content=prompt.format(text=state[\"text\"]))\n",
    "  summary=llm.invoke([message]).content.strip()\n",
    "  return {\"summary\": summary}"
   ]
  },
  {
   "cell_type": "markdown",
   "metadata": {},
   "source": [
    "#### Create the Graph and Build the workflow"
   ]
  },
  {
   "cell_type": "code",
   "execution_count": 66,
   "metadata": {},
   "outputs": [],
   "source": [
    "workflow = StateGraph(State)\n",
    "\n",
    "# Add Nodes to the Graph\n",
    "workflow.add_node(\"classification_node\", classification_node)\n",
    "workflow.add_node(\"entity_extraction_node\", entity_extraction_node)\n",
    "workflow.add_node(\"summarization_node\", summarization_node)\n",
    "\n",
    "# Define the Workflow\n",
    "workflow.set_entry_point(\"classification_node\")\n",
    "workflow.add_edge(\"classification_node\", \"entity_extraction_node\")\n",
    "workflow.add_edge(\"entity_extraction_node\", \"summarization_node\")\n",
    "workflow.add_edge(\"summarization_node\", END)\n",
    "\n",
    "# Compile the Graph\n",
    "app = workflow.compile()\n"
   ]
  },
  {
   "cell_type": "markdown",
   "metadata": {},
   "source": [
    "#### Visualize the Graph\n",
    "\n"
   ]
  },
  {
   "cell_type": "code",
   "execution_count": 74,
   "metadata": {},
   "outputs": [
    {
     "data": {
      "image/jpeg": "[encoded data removed]",
      "text/plain": [
       "<IPython.core.display.Image object>"
      ]
     },
     "metadata": {},
     "output_type": "display_data"
    }
   ],
   "source": [
    "try:\n",
    "    graph_image = app.get_graph(xray=True).draw_mermaid_png()\n",
    "    display(Image(graph_image))\n",
    "except Exception as e:\n",
    "    print(f\"Failed to display the graph: {e}\")\n"
   ]
  },
  {
   "cell_type": "markdown",
   "metadata": {},
   "source": [
    "#### Testing the Workflow"
   ]
  },
  {
   "cell_type": "code",
   "execution_count": 85,
   "metadata": {},
   "outputs": [
    {
     "name": "stdout",
     "output_type": "stream",
     "text": [
      "Classification:  Research\n",
      "\n",
      "Entities:  ['- **Organization**: LangGraph\\n- **Location**: None\\n- **Person**: None']\n",
      "\n",
      "Summary:  LangGraph is a low-level library for developing stateful, multi-actor applications with LLMs, offering unique features like cycles, controllability, and built-in persistence for enhanced agent workflows.\n",
      "\n",
      "Individual Entity:\n",
      "- **Organization**: LangGraph\n",
      "- **Location**: None\n",
      "- **Person**: None\n"
     ]
    }
   ],
   "source": [
    "sample_text = \"LangGraph is a library for building stateful, multi-actor applications with LLMs, used to create agent and multi-agent workflows. Compared to other LLM frameworks, it offers these core benefits: cycles, controllability, and persistence. LangGraph allows you to define flows that involve cycles, essential for most agentic architectures, differentiating it from DAG-based solutions. As a very low-level framework, it provides fine-grained control over both the flow and state of your application, crucial for creating reliable agents. Additionally, LangGraph includes built-in persistence, enabling advanced human-in-the-loop and memory features.\"\n",
    "\n",
    "state_input = {\"text\": sample_text}\n",
    "result = app.invoke(state_input)\n",
    "\n",
    "print(\"Classification: \", result[\"classification\"])\n",
    "print(\"\\nEntities: \", result[\"entities\"])\n",
    "print(\"\\nSummary: \", result[\"summary\"])\n",
    "print(\"\\nIndividual Entity:\")\n",
    "for entity in result[\"entities\"]:\n",
    "    print(entity)"
   ]
  },
  {
   "cell_type": "markdown",
   "metadata": {},
   "source": [
    "#### Conclusion\n",
    "<small>LangGraph is a powerful tool for building generative AI applications, from chatbots to complex models, built on the LangChain library.</small>\n",
    "\n",
    "<small>Each node represents an entity or function connected by edges, organized in a directed acyclic graph (DAG) representing the application's workflow.</small>\n",
    "\n",
    "<small>In this tutorial, we have learned how to build a text processing pipeline using LangGraph and how to visualize and test the pipeline.</small>\n",
    "\n"
   ]
  }
 ],
 "metadata": {
  "kernelspec": {
   "display_name": "myenv",
   "language": "python",
   "name": "python3"
  },
  "language_info": {
   "codemirror_mode": {
    "name": "ipython",
    "version": 3
   },
   "file_extension": ".py",
   "mimetype": "text/x-python",
   "name": "python",
   "nbconvert_exporter": "python",
   "pygments_lexer": "ipython3",
   "version": "3.12.6"
  }
 },
 "nbformat": 4,
 "nbformat_minor": 2
}
